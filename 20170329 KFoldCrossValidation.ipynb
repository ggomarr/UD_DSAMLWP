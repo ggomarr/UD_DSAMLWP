{
 "cells": [
  {
   "cell_type": "markdown",
   "metadata": {
    "deletable": true,
    "editable": true
   },
   "source": [
    "# K-Fold Cross Validation"
   ]
  },
  {
   "cell_type": "code",
   "execution_count": 4,
   "metadata": {
    "collapsed": false,
    "deletable": true,
    "editable": true,
    "scrolled": true
   },
   "outputs": [],
   "source": [
    "import numpy as np\n",
    "from sklearn import cross_validation\n",
    "from sklearn import datasets\n",
    "from sklearn import svm"
   ]
  },
  {
   "cell_type": "code",
   "execution_count": 5,
   "metadata": {
    "collapsed": true
   },
   "outputs": [],
   "source": [
    "iris = datasets.load_iris()\n",
    "X_train, X_test, y_train, y_test = cross_validation.train_test_split(iris.data, iris.target, test_size=0.4, random_state=0)"
   ]
  },
  {
   "cell_type": "code",
   "execution_count": 6,
   "metadata": {
    "collapsed": false,
    "deletable": true,
    "editable": true,
    "scrolled": true
   },
   "outputs": [],
   "source": [
    "models= [svm.SVC(kernel='rbf', C=1).fit(X_train, y_train),\n",
    "         svm.SVC(kernel='sigmoid', C=1).fit(X_train, y_train),\n",
    "         svm.SVC(kernel='linear', C=1).fit(X_train, y_train),\n",
    "         svm.SVC(kernel='poly', degree=2, C=1).fit(X_train, y_train),\n",
    "         svm.SVC(kernel='poly', degree=5, C=1).fit(X_train, y_train),\n",
    "         svm.SVC(kernel='poly', degree=10, C=1).fit(X_train, y_train)]"
   ]
  },
  {
   "cell_type": "code",
   "execution_count": 7,
   "metadata": {
    "collapsed": false
   },
   "outputs": [
    {
     "name": "stdout",
     "output_type": "stream",
     "text": [
      "rbf: 0.95\n",
      "sigmoid: 0.266666666667\n",
      "linear: 0.966666666667\n",
      "poly 2: 0.9\n",
      "poly 5: 0.95\n",
      "poly 10: 0.95\n"
     ]
    }
   ],
   "source": [
    "for model in models:\n",
    "    print( model.kernel + \\\n",
    "          (' {}'.format(model.degree) if model.kernel=='poly' else '') + \\\n",
    "           ': {}'.format(model.score(X_test, y_test)))"
   ]
  },
  {
   "cell_type": "code",
   "execution_count": 9,
   "metadata": {
    "collapsed": false,
    "deletable": true,
    "editable": true
   },
   "outputs": [
    {
     "name": "stdout",
     "output_type": "stream",
     "text": [
      "rbf: 0.98 [ 0.96666667  1.          0.96666667  0.96666667  1.        ]\n",
      "sigmoid: 0.0933333333333 [ 0.33333333  0.1         0.          0.03333333  0.        ]\n",
      "linear: 0.98 [ 0.96666667  1.          0.96666667  0.96666667  1.        ]\n",
      "poly 2: 0.973333333333 [ 1.          1.          0.9         0.96666667  1.        ]\n",
      "poly 5: 0.94 [ 0.96666667  0.93333333  0.86666667  0.93333333  1.        ]\n",
      "poly 10: 0.933333333333 [ 0.96666667  0.93333333  0.83333333  0.93333333  1.        ]\n"
     ]
    }
   ],
   "source": [
    "for model in models:\n",
    "    scores = cross_validation.cross_val_score(model, iris.data, iris.target, cv=5)\n",
    "    print( model.kernel + \\\n",
    "          (' {}'.format(model.degree) if model.kernel=='poly' else '') + \\\n",
    "           ': {} {}'.format(scores.mean(),scores))"
   ]
  },
  {
   "cell_type": "code",
   "execution_count": null,
   "metadata": {
    "collapsed": false,
    "deletable": true,
    "editable": true
   },
   "outputs": [],
   "source": []
  }
 ],
 "metadata": {
  "kernelspec": {
   "display_name": "Python 2",
   "language": "python",
   "name": "python2"
  },
  "language_info": {
   "codemirror_mode": {
    "name": "ipython",
    "version": 2
   },
   "file_extension": ".py",
   "mimetype": "text/x-python",
   "name": "python",
   "nbconvert_exporter": "python",
   "pygments_lexer": "ipython2",
   "version": "2.7.12+"
  }
 },
 "nbformat": 4,
 "nbformat_minor": 0
}
