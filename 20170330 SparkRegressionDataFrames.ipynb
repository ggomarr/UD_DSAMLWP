{
 "cells": [
  {
   "cell_type": "markdown",
   "metadata": {
    "deletable": true,
    "editable": true
   },
   "source": [
    "## Launching Spark"
   ]
  },
  {
   "cell_type": "code",
   "execution_count": 2,
   "metadata": {
    "collapsed": false,
    "deletable": true,
    "editable": true
   },
   "outputs": [
    {
     "name": "stdout",
     "output_type": "stream",
     "text": [
      "env: SPARK_HOME=/home/ggomarr/.spark\n"
     ]
    }
   ],
   "source": [
    "%env SPARK_HOME=/home/ggomarr/.spark\n",
    "master_node='spark://Otter:7077'\n",
    "app_name='SparkRegression'\n",
    "dataframeMode=True\n",
    "stopSpark=False"
   ]
  },
  {
   "cell_type": "code",
   "execution_count": 3,
   "metadata": {
    "collapsed": false,
    "deletable": true,
    "editable": true
   },
   "outputs": [
    {
     "name": "stdout",
     "output_type": "stream",
     "text": [
      "org.apache.spark.deploy.master.Master running as process 3733.  Stop it first.\n",
      "org.apache.spark.deploy.worker.Worker running as process 3793.  Stop it first.\n"
     ]
    }
   ],
   "source": [
    "!/home/ggomarr/.spark/sbin/start-master.sh\n",
    "!/home/ggomarr/.spark/sbin/start-slave.sh {master_node}"
   ]
  },
  {
   "cell_type": "code",
   "execution_count": 4,
   "metadata": {
    "collapsed": true,
    "deletable": true,
    "editable": true
   },
   "outputs": [],
   "source": [
    "import findspark\n",
    "findspark.init()"
   ]
  },
  {
   "cell_type": "code",
   "execution_count": 5,
   "metadata": {
    "collapsed": true,
    "deletable": true,
    "editable": true
   },
   "outputs": [],
   "source": [
    "if dataframeMode:\n",
    "    from pyspark.sql import SparkSession\n",
    "    spark=SparkSession.builder.master(master_node).appName(app_name).getOrCreate()\n",
    "    sc=spark.sparkContext\n",
    "else:\n",
    "    from pyspark import SparkConf, SparkContext\n",
    "    conf=SparkConf().setMaster(master_node).setAppName(app_name)\n",
    "    sc=SparkContext(conf=conf)"
   ]
  },
  {
   "cell_type": "markdown",
   "metadata": {
    "deletable": true,
    "editable": true
   },
   "source": [
    "## Test using a text file"
   ]
  },
  {
   "cell_type": "code",
   "execution_count": 4,
   "metadata": {
    "collapsed": false,
    "deletable": true,
    "editable": true
   },
   "outputs": [
    {
     "name": "stdout",
     "output_type": "stream",
     "text": [
      "(183, u'(Common Development and Distribution License (CDDL) v1.0) JavaBeans Activation Framework (JAF) (javax.activation:activation:1.1 - http://java.sun.com/products/javabeans/jaf/index.jsp)')\n",
      "(166, u'(COMMON DEVELOPMENT AND DISTRIBUTION LICENSE (CDDL) Version 1.0) (GNU General Public Library) Streaming API for XML (javax.xml.stream:stax-api:1.0-2 - no url defined)')\n",
      "(142, u'(CDDL 1.0) Servlet Specification 2.5 API (org.mortbay.jetty:servlet-api-2.5:6.1.14 - http://jetty.mortbay.org/project/modules/servlet-api-2.5)')\n",
      "(126, u'The following components are provided under the Common Development and Distribution License 1.0. See project link for details.')\n",
      "(126, u'The following components are provided under the Common Development and Distribution License 1.1. See project link for details.')\n"
     ]
    }
   ],
   "source": [
    "def process_row(row):\n",
    "    row=row.strip()\n",
    "    return [ (len(row),(row)) ] if row else []\n",
    "\n",
    "file_rows=(sc.textFile(\"file:///home/ggomarr/.spark/NOTICE\")\n",
    "                      .flatMap(process_row))\n",
    "\n",
    "for r in file_rows.takeOrdered(5,key=lambda x: -x[0]):\n",
    "    print(r)"
   ]
  },
  {
   "cell_type": "markdown",
   "metadata": {
    "collapsed": true,
    "deletable": true,
    "editable": true
   },
   "source": [
    "## Enjoy"
   ]
  },
  {
   "cell_type": "code",
   "execution_count": 21,
   "metadata": {
    "collapsed": false,
    "deletable": true,
    "editable": true
   },
   "outputs": [],
   "source": [
    "from pyspark.ml.regression import LinearRegression\n",
    "from pyspark.ml.linalg import Vectors\n",
    "import math"
   ]
  },
  {
   "cell_type": "code",
   "execution_count": 10,
   "metadata": {
    "collapsed": false,
    "scrolled": true
   },
   "outputs": [
    {
     "data": {
      "text/plain": [
       "[Row(label=-1.74, features=DenseVector([1.66])),\n",
       " Row(label=1.24, features=DenseVector([-1.18])),\n",
       " Row(label=0.29, features=DenseVector([-0.4])),\n",
       " Row(label=-0.13, features=DenseVector([0.09])),\n",
       " Row(label=-0.39, features=DenseVector([0.38]))]"
      ]
     },
     "execution_count": 10,
     "metadata": {},
     "output_type": "execute_result"
    }
   ],
   "source": [
    "def processRow(row):\n",
    "    row=row.split(',')\n",
    "    return float(row[0]),Vectors.dense(float(row[1]))\n",
    "dataDf=sc.textFile(\"./misc/regression.txt\").map(processRow).toDF([\"label\", \"features\"])\n",
    "dataDf.head(5)"
   ]
  },
  {
   "cell_type": "code",
   "execution_count": 63,
   "metadata": {
    "collapsed": false
   },
   "outputs": [],
   "source": [
    "trainDf,testDf=dataDf.randomSplit([0.8, 0.2])\n",
    "model=LinearRegression(maxIter=100,regParam=0.0,elasticNetParam=0.0).fit(trainDf)"
   ]
  },
  {
   "cell_type": "code",
   "execution_count": 64,
   "metadata": {
    "collapsed": true
   },
   "outputs": [],
   "source": [
    "def RMSE(predictedRDD):\n",
    "    return math.sqrt(predictedRDD.map(lambda row: (row.prediction-row.label)**2).mean())\n",
    "def plotLinReg(predictedRDD,sample=100):\n",
    "    total=predictedRDD.count()\n",
    "    points=(predictedRDD.sample(False,1.0*sample/total)\n",
    "                        .map(lambda row: [row.features[0],row.label,row.prediction])\n",
    "                        .sortBy(lambda row: row[0])\n",
    "                        .collect())\n",
    "    x=[ point[0] for point in points ]\n",
    "    yr=[ point[1] for point in points ]\n",
    "    yp=[ point[2] for point in points ]\n",
    "    plt.scatter(x,yr)\n",
    "    plt.plot(x,yp,c='r')\n",
    "    plt.show()"
   ]
  },
  {
   "cell_type": "code",
   "execution_count": 68,
   "metadata": {
    "collapsed": false,
    "scrolled": true
   },
   "outputs": [
    {
     "data": {
      "text/plain": [
       "[Row(label=-2.29, features=DenseVector([2.35]), prediction=-2.3403169860390425),\n",
       " Row(label=-2.27, features=DenseVector([2.19]), prediction=-2.18079692862743),\n",
       " Row(label=-2.0, features=DenseVector([2.02]), prediction=-2.0113068676275923),\n",
       " Row(label=-1.91, features=DenseVector([1.83]), prediction=-1.8218767994513025),\n",
       " Row(label=-1.87, features=DenseVector([1.98]), prediction=-1.971426853274689)]"
      ]
     },
     "execution_count": 68,
     "metadata": {},
     "output_type": "execute_result"
    }
   ],
   "source": [
    "predictionsAndLabels=model.transform(testDf)\n",
    "predictionsAndLabels.take(5)"
   ]
  },
  {
   "cell_type": "code",
   "execution_count": 69,
   "metadata": {
    "collapsed": false
   },
   "outputs": [
    {
     "data": {
      "text/plain": [
       "0.10071910062674269"
      ]
     },
     "execution_count": 69,
     "metadata": {},
     "output_type": "execute_result"
    }
   ],
   "source": [
    "RMSE(predictionsAndLabels.rdd)"
   ]
  },
  {
   "cell_type": "code",
   "execution_count": 70,
   "metadata": {
    "collapsed": false,
    "scrolled": false
   },
   "outputs": [
    {
     "data": {
      "image/png": "[encoded data removed]",
      "text/plain": [
       "<matplotlib.figure.Figure at 0x7f22bc638d50>"
      ]
     },
     "metadata": {},
     "output_type": "display_data"
    }
   ],
   "source": [
    "plotLinReg(predictionsAndLabels.rdd)"
   ]
  },
  {
   "cell_type": "markdown",
   "metadata": {},
   "source": [
    "## Clean up"
   ]
  },
  {
   "cell_type": "code",
   "execution_count": 71,
   "metadata": {
    "collapsed": true
   },
   "outputs": [],
   "source": [
    "sc.stop()"
   ]
  },
  {
   "cell_type": "code",
   "execution_count": null,
   "metadata": {
    "collapsed": true
   },
   "outputs": [],
   "source": [
    "if stopSpark:\n",
    "    !/home/ggomarr/.spark/sbin/stop-slave.sh\n",
    "    !/home/ggomarr/.spark/sbin/stop-master.sh"
   ]
  }
 ],
 "metadata": {
  "kernelspec": {
   "display_name": "Python 2",
   "language": "python",
   "name": "python2"
  },
  "language_info": {
   "codemirror_mode": {
    "name": "ipython",
    "version": 2
   },
   "file_extension": ".py",
   "mimetype": "text/x-python",
   "name": "python",
   "nbconvert_exporter": "python",
   "pygments_lexer": "ipython2",
   "version": "2.7.12+"
  }
 },
 "nbformat": 4,
 "nbformat_minor": 1
}
