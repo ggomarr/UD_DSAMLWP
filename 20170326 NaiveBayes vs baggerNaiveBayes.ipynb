{
 "cells": [
  {
   "cell_type": "markdown",
   "metadata": {
    "deletable": true,
    "editable": true
   },
   "source": [
    "# Spam classifier using Multinomial Naive Bayes"
   ]
  },
  {
   "cell_type": "code",
   "execution_count": 1,
   "metadata": {
    "collapsed": false,
    "deletable": true,
    "editable": true
   },
   "outputs": [],
   "source": [
    "import os\n",
    "import numpy as np\n",
    "import pandas as pd\n",
    "from sklearn.model_selection import train_test_split\n",
    "from sklearn.feature_extraction.text import CountVectorizer\n",
    "from sklearn.naive_bayes import MultinomialNB\n",
    "from sklearn.metrics import confusion_matrix"
   ]
  },
  {
   "cell_type": "code",
   "execution_count": 2,
   "metadata": {
    "collapsed": false,
    "deletable": true,
    "editable": true
   },
   "outputs": [],
   "source": [
    "def dataFrameFromDirectory(path, classification):\n",
    "    df=pd.DataFrame({'message': [], 'class': []})\n",
    "    for filename in os.listdir(path):\n",
    "        f=open(os.path.join(path,filename),'r')\n",
    "        message=f.read()\n",
    "        f.close()\n",
    "        message=unicode(message.split('\\n\\n',1)[1],errors='ignore')\n",
    "        df=df.append({'message': message, 'class': classification},ignore_index=True)\n",
    "    return df\n",
    "data = dataFrameFromDirectory('./emails/spam', 'spam')\n",
    "data = data.append(dataFrameFromDirectory('./emails/ham', 'ham'))"
   ]
  },
  {
   "cell_type": "code",
   "execution_count": 3,
   "metadata": {
    "collapsed": false,
    "deletable": true,
    "editable": true
   },
   "outputs": [
    {
     "data": {
      "text/html": [
       "<div>\n",
       "<table border=\"1\" class=\"dataframe\">\n",
       "  <thead>\n",
       "    <tr style=\"text-align: right;\">\n",
       "      <th></th>\n",
       "      <th>class</th>\n",
       "      <th>message</th>\n",
       "    </tr>\n",
       "  </thead>\n",
       "  <tbody>\n",
       "    <tr>\n",
       "      <th>0</th>\n",
       "      <td>spam</td>\n",
       "      <td>&lt;!DOCTYPE HTML PUBLIC \"-//W3C//DTD HTML 4.01 T...</td>\n",
       "    </tr>\n",
       "    <tr>\n",
       "      <th>1</th>\n",
       "      <td>spam</td>\n",
       "      <td>&lt;HTML&gt;\\n&lt;PRE&gt;\\nDear Valued Member,\\n\\nOfferClu...</td>\n",
       "    </tr>\n",
       "    <tr>\n",
       "      <th>2</th>\n",
       "      <td>spam</td>\n",
       "      <td>&lt;\u001b$B;v6H&lt;T\u001b(B&gt;\\n\u001b$B;aL&gt;\u001b(B:Vip-mail\\n\u001b$BFMA3$N...</td>\n",
       "    </tr>\n",
       "    <tr>\n",
       "      <th>3</th>\n",
       "      <td>spam</td>\n",
       "      <td>&lt;HTML&gt;&lt;HEAD&gt;\\n&lt;META http-equiv=3DContent-Type ...</td>\n",
       "    </tr>\n",
       "    <tr>\n",
       "      <th>4</th>\n",
       "      <td>spam</td>\n",
       "      <td>\\nWET, HORNY AND DIRTY GRANDMAS!\\n\\nRemember h...</td>\n",
       "    </tr>\n",
       "  </tbody>\n",
       "</table>\n",
       "</div>"
      ],
      "text/plain": [
       "  class                                            message\n",
       "0  spam  <!DOCTYPE HTML PUBLIC \"-//W3C//DTD HTML 4.01 T...\n",
       "1  spam  <HTML>\\n<PRE>\\nDear Valued Member,\\n\\nOfferClu...\n",
       "2  spam  <\u001b$B;v6H<T\u001b(B>\\n\u001b$B;aL>\u001b(B:Vip-mail\\n\u001b$BFMA3$N...\n",
       "3  spam  <HTML><HEAD>\\n<META http-equiv=3DContent-Type ...\n",
       "4  spam  \\nWET, HORNY AND DIRTY GRANDMAS!\\n\\nRemember h..."
      ]
     },
     "execution_count": 3,
     "metadata": {},
     "output_type": "execute_result"
    }
   ],
   "source": [
    "data.head()"
   ]
  },
  {
   "cell_type": "code",
   "execution_count": 4,
   "metadata": {
    "collapsed": false,
    "deletable": true,
    "editable": true,
    "scrolled": true
   },
   "outputs": [
    {
     "data": {
      "text/html": [
       "<div>\n",
       "<table border=\"1\" class=\"dataframe\">\n",
       "  <thead>\n",
       "    <tr style=\"text-align: right;\">\n",
       "      <th></th>\n",
       "      <th>message</th>\n",
       "    </tr>\n",
       "    <tr>\n",
       "      <th>class</th>\n",
       "      <th></th>\n",
       "    </tr>\n",
       "  </thead>\n",
       "  <tbody>\n",
       "    <tr>\n",
       "      <th>ham</th>\n",
       "      <td>2500</td>\n",
       "    </tr>\n",
       "    <tr>\n",
       "      <th>spam</th>\n",
       "      <td>500</td>\n",
       "    </tr>\n",
       "  </tbody>\n",
       "</table>\n",
       "</div>"
      ],
      "text/plain": [
       "       message\n",
       "class         \n",
       "ham       2500\n",
       "spam       500"
      ]
     },
     "execution_count": 4,
     "metadata": {},
     "output_type": "execute_result"
    }
   ],
   "source": [
    "data.groupby('class').count()"
   ]
  },
  {
   "cell_type": "code",
   "execution_count": 5,
   "metadata": {
    "collapsed": false,
    "deletable": true,
    "editable": true
   },
   "outputs": [],
   "source": [
    "train, test = train_test_split(data,test_size=0.2,stratify=data['class'])"
   ]
  },
  {
   "cell_type": "code",
   "execution_count": 6,
   "metadata": {
    "collapsed": false,
    "deletable": true,
    "editable": true
   },
   "outputs": [
    {
     "data": {
      "text/html": [
       "<div>\n",
       "<table border=\"1\" class=\"dataframe\">\n",
       "  <thead>\n",
       "    <tr style=\"text-align: right;\">\n",
       "      <th></th>\n",
       "      <th>message</th>\n",
       "    </tr>\n",
       "    <tr>\n",
       "      <th>class</th>\n",
       "      <th></th>\n",
       "    </tr>\n",
       "  </thead>\n",
       "  <tbody>\n",
       "    <tr>\n",
       "      <th>ham</th>\n",
       "      <td>2000</td>\n",
       "    </tr>\n",
       "    <tr>\n",
       "      <th>spam</th>\n",
       "      <td>400</td>\n",
       "    </tr>\n",
       "  </tbody>\n",
       "</table>\n",
       "</div>"
      ],
      "text/plain": [
       "       message\n",
       "class         \n",
       "ham       2000\n",
       "spam       400"
      ]
     },
     "execution_count": 6,
     "metadata": {},
     "output_type": "execute_result"
    }
   ],
   "source": [
    "train.groupby('class').count()"
   ]
  },
  {
   "cell_type": "code",
   "execution_count": 7,
   "metadata": {
    "collapsed": false,
    "deletable": true,
    "editable": true
   },
   "outputs": [
    {
     "data": {
      "text/html": [
       "<div>\n",
       "<table border=\"1\" class=\"dataframe\">\n",
       "  <thead>\n",
       "    <tr style=\"text-align: right;\">\n",
       "      <th></th>\n",
       "      <th>message</th>\n",
       "    </tr>\n",
       "    <tr>\n",
       "      <th>class</th>\n",
       "      <th></th>\n",
       "    </tr>\n",
       "  </thead>\n",
       "  <tbody>\n",
       "    <tr>\n",
       "      <th>ham</th>\n",
       "      <td>500</td>\n",
       "    </tr>\n",
       "    <tr>\n",
       "      <th>spam</th>\n",
       "      <td>100</td>\n",
       "    </tr>\n",
       "  </tbody>\n",
       "</table>\n",
       "</div>"
      ],
      "text/plain": [
       "       message\n",
       "class         \n",
       "ham        500\n",
       "spam       100"
      ]
     },
     "execution_count": 7,
     "metadata": {},
     "output_type": "execute_result"
    }
   ],
   "source": [
    "test.groupby('class').count()"
   ]
  },
  {
   "cell_type": "code",
   "execution_count": 9,
   "metadata": {
    "collapsed": false,
    "deletable": true,
    "editable": true
   },
   "outputs": [
    {
     "data": {
      "text/plain": [
       "MultinomialNB(alpha=1.0, class_prior=None, fit_prior=True)"
      ]
     },
     "execution_count": 9,
     "metadata": {},
     "output_type": "execute_result"
    }
   ],
   "source": [
    "vectorizer = CountVectorizer()\n",
    "train_counts=vectorizer.fit_transform(train['message'].values)\n",
    "classifier = MultinomialNB()\n",
    "classifier.fit(train_counts, train['class'].values)"
   ]
  },
  {
   "cell_type": "code",
   "execution_count": 10,
   "metadata": {
    "collapsed": false,
    "deletable": true,
    "editable": true
   },
   "outputs": [
    {
     "data": {
      "text/plain": [
       "array([[1997,    3],\n",
       "       [  57,  343]])"
      ]
     },
     "execution_count": 10,
     "metadata": {},
     "output_type": "execute_result"
    }
   ],
   "source": [
    "train_predictions=classifier.predict(train_counts)\n",
    "confusion_matrix(train['class'].values,train_predictions)"
   ]
  },
  {
   "cell_type": "code",
   "execution_count": 11,
   "metadata": {
    "collapsed": false,
    "deletable": true,
    "editable": true
   },
   "outputs": [
    {
     "data": {
      "text/plain": [
       "array([[498,   2],\n",
       "       [ 27,  73]])"
      ]
     },
     "execution_count": 11,
     "metadata": {},
     "output_type": "execute_result"
    }
   ],
   "source": [
    "test_counts=vectorizer.transform(test['message'].values)\n",
    "test_predictions=classifier.predict(test_counts)\n",
    "confusion_matrix(test['class'].values,test_predictions)"
   ]
  },
  {
   "cell_type": "code",
   "execution_count": 14,
   "metadata": {
    "collapsed": true,
    "deletable": true,
    "editable": true
   },
   "outputs": [],
   "source": [
    "class baggerMultinomialNB():\n",
    "    def __init__(self,data,test_size=0.2,num_bags=1,class_name='class',classes=['ham','spam']):\n",
    "        self.num_bags=num_bags\n",
    "        self.class_name=class_name\n",
    "        self.classes=classes\n",
    "        self.train_data,self.test_data=train_test_split(data,test_size=test_size,stratify=data[self.class_name])\n",
    "    def train(self):\n",
    "        self.vectorizer = CountVectorizer()\n",
    "        self.vectorizer.fit(self.train_data['message'].values)\n",
    "        train_grouped=self.train_data.groupby([self.class_name])\n",
    "        train_lg=train_grouped.get_group(self.classes[0])\n",
    "        train_sm=train_grouped.get_group(self.classes[1])\n",
    "        train_lg_bag=np.random.randint(self.num_bags,size=len(train_lg))\n",
    "        train_lg.loc[:,'bag']=pd.Series(train_lg_bag,index=train_lg.index)\n",
    "        train_lg_bagged=train_lg.groupby(['bag'])\n",
    "        self.classifiers=[]\n",
    "        for bag in train_lg_bagged.groups:\n",
    "            train_bag=train_lg_bagged.get_group(bag).drop(['bag'],axis=1).append(train_sm)\n",
    "            train_counts=self.vectorizer.transform(train_bag['message'].values)\n",
    "            classifier = MultinomialNB()\n",
    "            classifier.fit(train_counts, train_bag['class'].values)\n",
    "            self.classifiers.append(classifier)\n",
    "    def predict(self,individuals):\n",
    "        individuals_counts=self.vectorizer.transform(individuals)\n",
    "        votes=[]\n",
    "        for classifier in self.classifiers:\n",
    "            votes.append(classifier.predict(individuals_counts))\n",
    "        return pd.DataFrame(votes).apply(lambda col: col.value_counts().idxmax())"
   ]
  },
  {
   "cell_type": "code",
   "execution_count": 15,
   "metadata": {
    "collapsed": false,
    "deletable": true,
    "editable": true
   },
   "outputs": [
    {
     "name": "stderr",
     "output_type": "stream",
     "text": [
      "/home/ggomarr/.local/lib/python2.7/site-packages/pandas/core/indexing.py:297: SettingWithCopyWarning: \n",
      "A value is trying to be set on a copy of a slice from a DataFrame.\n",
      "Try using .loc[row_indexer,col_indexer] = value instead\n",
      "\n",
      "See the caveats in the documentation: http://pandas.pydata.org/pandas-docs/stable/indexing.html#indexing-view-versus-copy\n",
      "  self.obj[key] = _infer_fill_value(value)\n",
      "/home/ggomarr/.local/lib/python2.7/site-packages/pandas/core/indexing.py:477: SettingWithCopyWarning: \n",
      "A value is trying to be set on a copy of a slice from a DataFrame.\n",
      "Try using .loc[row_indexer,col_indexer] = value instead\n",
      "\n",
      "See the caveats in the documentation: http://pandas.pydata.org/pandas-docs/stable/indexing.html#indexing-view-versus-copy\n",
      "  self.obj[item] = s\n"
     ]
    },
    {
     "data": {
      "text/plain": [
       "0    spam\n",
       "1     ham\n",
       "dtype: object"
      ]
     },
     "execution_count": 15,
     "metadata": {},
     "output_type": "execute_result"
    }
   ],
   "source": [
    "baggedFilter=baggerMultinomialNB(data,num_bags=1)\n",
    "baggedFilter.train()\n",
    "baggedFilter.predict(['Free Viagra now!!!', \"Hi Bob, how about a game of golf tomorrow?\"])"
   ]
  },
  {
   "cell_type": "code",
   "execution_count": 17,
   "metadata": {
    "collapsed": false,
    "deletable": true,
    "editable": true
   },
   "outputs": [
    {
     "data": {
      "text/plain": [
       "array([[1997,    3],\n",
       "       [  65,  335]])"
      ]
     },
     "execution_count": 17,
     "metadata": {},
     "output_type": "execute_result"
    }
   ],
   "source": [
    "train_predictions=baggedFilter.predict(train['message'].values)\n",
    "confusion_matrix(train['class'].values,train_predictions)"
   ]
  },
  {
   "cell_type": "code",
   "execution_count": 19,
   "metadata": {
    "collapsed": false,
    "deletable": true,
    "editable": true
   },
   "outputs": [
    {
     "data": {
      "text/plain": [
       "array([[498,   2],\n",
       "       [ 15,  85]])"
      ]
     },
     "execution_count": 19,
     "metadata": {},
     "output_type": "execute_result"
    }
   ],
   "source": [
    "test_predictions=baggedFilter.predict(test['message'].values)\n",
    "confusion_matrix(test['class'].values,test_predictions)"
   ]
  },
  {
   "cell_type": "code",
   "execution_count": 20,
   "metadata": {
    "collapsed": false,
    "deletable": true,
    "editable": true
   },
   "outputs": [
    {
     "data": {
      "text/plain": [
       "0    spam\n",
       "1     ham\n",
       "dtype: object"
      ]
     },
     "execution_count": 20,
     "metadata": {},
     "output_type": "execute_result"
    }
   ],
   "source": [
    "baggedFilter=baggerMultinomialNB(data,num_bags=5)\n",
    "baggedFilter.train()\n",
    "baggedFilter.predict(['Free Viagra now!!!', \"Hi Bob, how about a game of golf tomorrow?\"])"
   ]
  },
  {
   "cell_type": "code",
   "execution_count": 21,
   "metadata": {
    "collapsed": false,
    "deletable": true,
    "editable": true
   },
   "outputs": [
    {
     "data": {
      "text/plain": [
       "array([[1994,    6],\n",
       "       [  10,  390]])"
      ]
     },
     "execution_count": 21,
     "metadata": {},
     "output_type": "execute_result"
    }
   ],
   "source": [
    "train_predictions=baggedFilter.predict(train['message'].values)\n",
    "confusion_matrix(train['class'].values,train_predictions)"
   ]
  },
  {
   "cell_type": "code",
   "execution_count": 22,
   "metadata": {
    "collapsed": false,
    "deletable": true,
    "editable": true
   },
   "outputs": [
    {
     "data": {
      "text/plain": [
       "array([[497,   3],\n",
       "       [  5,  95]])"
      ]
     },
     "execution_count": 22,
     "metadata": {},
     "output_type": "execute_result"
    }
   ],
   "source": [
    "test_predictions=baggedFilter.predict(test['message'].values)\n",
    "confusion_matrix(test['class'].values,test_predictions)"
   ]
  },
  {
   "cell_type": "code",
   "execution_count": null,
   "metadata": {
    "collapsed": true,
    "deletable": true,
    "editable": true
   },
   "outputs": [],
   "source": []
  }
 ],
 "metadata": {
  "kernelspec": {
   "display_name": "Python 2",
   "language": "python",
   "name": "python2"
  },
  "language_info": {
   "codemirror_mode": {
    "name": "ipython",
    "version": 2
   },
   "file_extension": ".py",
   "mimetype": "text/x-python",
   "name": "python",
   "nbconvert_exporter": "python",
   "pygments_lexer": "ipython2",
   "version": "2.7.12+"
  }
 },
 "nbformat": 4,
 "nbformat_minor": 0
}
